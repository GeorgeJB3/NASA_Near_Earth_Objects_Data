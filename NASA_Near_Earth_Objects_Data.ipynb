{
 "cells": [
  {
   "cell_type": "code",
   "execution_count": 0,
   "metadata": {
    "application/vnd.databricks.v1+cell": {
     "cellMetadata": {
      "byteLimit": 2048000,
      "rowLimit": 10000
     },
     "inputWidgets": {},
     "nuid": "548127d1-b24d-4fd6-a85f-e128caa69215",
     "showTitle": false,
     "tableResultSettingsMap": {},
     "title": ""
    }
   },
   "outputs": [],
   "source": [
    "import requests\n",
    "import json\n",
    "import math\n",
    "from datetime import datetime, timedelta\n",
    "from pyspark.sql import Row\n",
    "from pyspark.sql.functions import col, expr, when\n",
    "\n",
    "'''Using datetime to set todays date so whenever the application is run we always see an accurate record of the past 25 and next 25 years'''\n",
    "today = datetime.today()\n",
    "past_25_years = today - timedelta(days=25*365)\n",
    "future_25_years = today + timedelta(days=25*365)\n",
    "\n",
    "START_DATE = past_25_years.strftime(\"%Y-%m-%d\")\n",
    "END_DATE = future_25_years.strftime(\"%Y-%m-%d\")\n",
    "API_KEY = \"6fFILj16yX0WFbGX5deyc2End7lGJG4Spuid9pH1\"\n",
    "URL = f\"https://api.nasa.gov/neo/rest/v1/feed?start_date=2015-09-07&end_date=2015-09-08&api_key={API_KEY}\"\n",
    "\n",
    "'''API call - limited to 7 days per request'''\n",
    "response = requests.get(URL)\n",
    "response.raise_for_status()\n",
    "\n",
    "'''See the data in a readable format'''\n",
    "data = response.json()\n",
    "raw_data = json.dumps(data, indent=2)\n",
    "readable_near_earth_objects = json.dumps(data[\"near_earth_objects\"], indent=2)\n",
    "\n",
    "'''filtered to only have near earth object data '''\n",
    "near_earth_objects = data[\"near_earth_objects\"]\n"
   ]
  },
  {
   "cell_type": "code",
   "execution_count": 0,
   "metadata": {
    "application/vnd.databricks.v1+cell": {
     "cellMetadata": {
      "byteLimit": 2048000,
      "rowLimit": 10000
     },
     "inputWidgets": {},
     "nuid": "41978b78-153a-4e5e-8fcd-d7d365a320e3",
     "showTitle": false,
     "tableResultSettingsMap": {},
     "title": ""
    }
   },
   "outputs": [],
   "source": [
    "def calculate_orbital_period(miss_distance_km):\n",
    "  '''calculates the orbital period based of the miss distance using keplers third law. returns the period in minutes which will be used in the analysis'''\n",
    "  miss_distance_m = miss_distance_km * 1000\n",
    "  gravitational_constant =  6.67430\n",
    "  earth_mass_kg = 5.972e24\n",
    "  gravitational_strength = gravitational_constant * earth_mass_kg\n",
    "  total_seconds = 2 * math.pi * math.sqrt(miss_distance_m**3 / gravitational_strength)\n",
    "  total_minutes = total_seconds / 60\n",
    "  \n",
    "  return int(total_minutes)"
   ]
  },
  {
   "cell_type": "code",
   "execution_count": 0,
   "metadata": {
    "application/vnd.databricks.v1+cell": {
     "cellMetadata": {
      "byteLimit": 2048000,
      "rowLimit": 10000
     },
     "inputWidgets": {},
     "nuid": "1c89f6e4-e258-41ec-a902-99fbc4adba0a",
     "showTitle": false,
     "tableResultSettingsMap": {},
     "title": ""
    }
   },
   "outputs": [],
   "source": [
    "'''create empty list in preparation for adding required data'''\n",
    "near_earth_objects_list = []\n",
    "close_approach_list = []\n",
    "\n",
    "'''loop through the data by each date then loop through the individual objects of each date. .items() allows us to loop through retrieving key:value pairs'''\n",
    "for date, neo_obj in near_earth_objects.items():\n",
    "    for obj in neo_obj:\n",
    "        diameter_min = obj[\"estimated_diameter\"][\"kilometers\"][\"estimated_diameter_min\"]\n",
    "        diameter_max = obj[\"estimated_diameter\"][\"kilometers\"][\"estimated_diameter_max\"]\n",
    "        avg_diameter = round((diameter_min + diameter_max) / 2, 2)\n",
    "        orbital_period_mins = calculate_orbital_period(float(obj[\"close_approach_data\"][0][\"miss_distance\"][\"kilometers\"]))\n",
    "        \n",
    "        # append data to the near earth object list. Row creates a single row of data in the pyspark dataframe\n",
    "        near_earth_objects_list.append(Row(\n",
    "            id=obj[\"id\"],\n",
    "            neo_reference_id=obj[\"neo_reference_id\"],\n",
    "            name=obj[\"name\"],\n",
    "            diameter_km=avg_diameter,\n",
    "            is_potentially_hazardous=obj[\"is_potentially_hazardous_asteroid\"],\n",
    "            orbital_period_minutes=orbital_period_mins\n",
    "        ))\n",
    "\n",
    "        for approach in obj[\"close_approach_data\"]:\n",
    "          approach_date = datetime.strptime(approach[\"close_approach_date\"], \"%Y-%m-%d\")\n",
    "          # filter approach date for the past and future 25 years (50 year window)\n",
    "          if past_25_years <= approach_date <= future_25_years:\n",
    "              close_approach_list.append(Row(\n",
    "                  neo_id=obj[\"id\"],\n",
    "                  close_approach_date=approach[\"close_approach_date\"],\n",
    "                  distance_from_earth_km=round(float(approach[\"miss_distance\"][\"kilometers\"]),2),\n",
    "                  diameter_km=avg_diameter,\n",
    "                  is_potentially_hazardous=obj[\"is_potentially_hazardous_asteroid\"]\n",
    "              ))"
   ]
  },
  {
   "cell_type": "code",
   "execution_count": 0,
   "metadata": {
    "application/vnd.databricks.v1+cell": {
     "cellMetadata": {
      "byteLimit": 2048000,
      "rowLimit": 10000
     },
     "inputWidgets": {},
     "nuid": "206a0c4c-8ac9-4feb-aba1-04e7f735f5a3",
     "showTitle": false,
     "tableResultSettingsMap": {},
     "title": ""
    }
   },
   "outputs": [
    {
     "output_type": "stream",
     "name": "stdout",
     "output_type": "stream",
     "text": [
      "+--------+----------------+------------------+-----------+----------------------+---------------------+\n|      id|neo_reference_id|              name|diameter_km|orbital_period_minutes|hazard_classification|\n+--------+----------------+------------------+-----------+----------------------+---------------------+\n| 2465633|         2465633| 465633 (2009 JR5)|       0.35|                   159| potentially hazar...|\n| 3426410|         3426410|       (2008 QV11)|       0.23|                   126|        non-hazardous|\n| 3553060|         3553060|       (2010 XT10)|       0.02|                   330|        non-hazardous|\n| 3726710|         3726710|         (2015 RC)|       0.06|                     4|        non-hazardous|\n| 3727181|         3727181|       (2015 RO36)|       0.11|                    12|        non-hazardous|\n| 3727639|         3727639|       (2015 RN83)|       0.19|                    66|        non-hazardous|\n| 3730577|         3730577|      (2015 TX237)|       0.09|                    21|        non-hazardous|\n| 3731587|         3731587|         (2015 UG)|       0.12|                    36|        non-hazardous|\n| 3747356|         3747356|      (2016 EK158)|       0.34|                   142|        non-hazardous|\n| 3758838|         3758838|         (2016 RT)|       0.06|                    67|        non-hazardous|\n|54191333|        54191333|        (2021 QP3)|       0.12|                   238|        non-hazardous|\n|54218591|        54218591|        (2021 VC9)|       0.02|                   283|        non-hazardous|\n|54393994|        54393994|       (2023 TP16)|        0.0|                   207|        non-hazardous|\n| 2440012|         2440012|440012 (2002 LE27)|       0.51|                   337|        non-hazardous|\n| 3713989|         3713989|       (2015 FC35)|       0.16|                   174|        non-hazardous|\n| 3726788|         3726788|        (2015 RG2)|       0.02|                     2|        non-hazardous|\n| 3727036|         3727036|       (2015 RL35)|       0.02|                    17|        non-hazardous|\n| 3727179|         3727179|       (2015 RH36)|       0.08|                    34|        non-hazardous|\n| 3727662|         3727662|       (2015 RX83)|       0.11|                   149|        non-hazardous|\n| 3727663|         3727663|       (2015 RY83)|       0.06|                    20|        non-hazardous|\n+--------+----------------+------------------+-----------+----------------------+---------------------+\nonly showing top 20 rows\n"
     ]
    }
   ],
   "source": [
    "neo_df = spark.createDataFrame(near_earth_objects_list)\n",
    "'''add a new column for hazard classification. when true its hazardous, when false not hazardous'''\n",
    "neo_df = neo_df.withColumn(\n",
    "    \"hazard_classification\", when(col(\"is_potentially_hazardous\") == 'true', \"potentially hazardous\")\n",
    "    .otherwise(\"non-hazardous\")\n",
    ")\n",
    "\n",
    "'''drop redundant column'''\n",
    "neo_df = neo_df.drop(\"is_potentially_hazardous\")\n",
    "\n",
    "neo_df.show()"
   ]
  },
  {
   "cell_type": "code",
   "execution_count": 0,
   "metadata": {
    "application/vnd.databricks.v1+cell": {
     "cellMetadata": {
      "byteLimit": 2048000,
      "rowLimit": 10000
     },
     "inputWidgets": {},
     "nuid": "d6d0f7af-4e04-49ef-b09b-c6ff146ef39f",
     "showTitle": false,
     "tableResultSettingsMap": {},
     "title": ""
    }
   },
   "outputs": [
    {
     "output_type": "stream",
     "name": "stdout",
     "output_type": "stream",
     "text": [
      "+--------+-------------------+----------------------+-----------+-----------------+---------------------+-------------+\n|  neo_id|close_approach_date|distance_from_earth_km|diameter_km|distance_category|hazard_classification|size_category|\n+--------+-------------------+----------------------+-----------+-----------------+---------------------+-------------+\n| 2465633|         2015-09-08|         4.529029823E7|       0.35|          distant| potentially hazar...|       medium|\n| 3426410|         2015-09-08|         3.876455855E7|       0.23|          distant|        non-hazardous|       medium|\n| 3553060|         2015-09-08|         7.356378239E7|       0.02|          distant|        non-hazardous|        small|\n| 3726710|         2015-09-08|             4027962.7|       0.06|moderate_distance|        non-hazardous|        small|\n| 3727181|         2015-09-08|             8086032.0|       0.11|moderate_distance|        non-hazardous|       medium|\n| 3727639|         2015-09-08|         2.519517736E7|       0.19|          distant|        non-hazardous|       medium|\n| 3730577|         2015-09-08|         1.189660243E7|       0.09|          distant|        non-hazardous|        small|\n| 3731587|         2015-09-08|         1.694046102E7|       0.12|          distant|        non-hazardous|       medium|\n| 3747356|         2015-09-08|         4.195849768E7|       0.34|          distant|        non-hazardous|       medium|\n| 3758838|         2015-09-08|          2.55371982E7|       0.06|          distant|        non-hazardous|        small|\n|54191333|         2015-09-08|         5.908661815E7|       0.12|          distant|        non-hazardous|       medium|\n|54218591|         2015-09-08|         6.630089521E7|       0.02|          distant|        non-hazardous|        small|\n|54393994|         2015-09-08|         5.386937413E7|        0.0|          distant|        non-hazardous|        small|\n| 2440012|         2015-09-07|         7.452503584E7|       0.51|          distant|        non-hazardous|       medium|\n| 3713989|         2015-09-07|         4.807702246E7|       0.16|          distant|        non-hazardous|       medium|\n| 3726788|         2015-09-07|            2450214.65|       0.02|            close|        non-hazardous|        small|\n| 3727036|         2015-09-07|         1.035919367E7|       0.02|          distant|        non-hazardous|        small|\n| 3727179|         2015-09-07|          1.63567259E7|       0.08|          distant|        non-hazardous|        small|\n| 3727662|         2015-09-07|         4.332079372E7|       0.11|          distant|        non-hazardous|       medium|\n| 3727663|         2015-09-07|         1.144272884E7|       0.06|          distant|        non-hazardous|        small|\n+--------+-------------------+----------------------+-----------+-----------------+---------------------+-------------+\nonly showing top 20 rows\n"
     ]
    }
   ],
   "source": [
    "approach_df = spark.createDataFrame(close_approach_list)\n",
    "\n",
    "# Lunar distance in km (distance between earth and moon)\n",
    "LD = 384400\n",
    "\n",
    "approach_df = approach_df.withColumn(\n",
    "    \"distance_category\",\n",
    "    when(col(\"distance_from_earth_km\") < LD, \"extremely_close\")\n",
    "    .when(col(\"distance_from_earth_km\") < 4_000_000, \"close\")\n",
    "    .when(col(\"distance_from_earth_km\") < 10_000_000, \"moderate_distance\")\n",
    "    .otherwise(\"distant\")\n",
    ")\n",
    "\n",
    "# The below 2 operations are duplicate code i've used on the neo_df to add and remove required / redundant columns \n",
    "approach_df = approach_df.withColumn(\n",
    "    \"hazard_classification\", when(col(\"is_potentially_hazardous\") == 'true', \"potentially hazardous\").otherwise(\"non-hazardous\")\n",
    ")\n",
    "approach_df = approach_df.drop(\"is_potentially_hazardous\")\n",
    "\n",
    "'''allow the filtering of objects by size ranges'''\n",
    "approach_df = approach_df.withColumn(\n",
    "    \"size_category\",\n",
    "    when(col(\"diameter_km\") < 0.1, \"small\")\n",
    "    .when(col(\"diameter_km\") <= 0.7, \"medium\")\n",
    "    .otherwise(\"large\")\n",
    ")\n",
    "\n",
    "approach_df.show()"
   ]
  },
  {
   "cell_type": "code",
   "execution_count": 0,
   "metadata": {
    "application/vnd.databricks.v1+cell": {
     "cellMetadata": {
      "byteLimit": 2048000,
      "implicitDf": true,
      "rowLimit": 10000
     },
     "inputWidgets": {},
     "nuid": "c73f7b68-6236-464f-b036-8bbf0e015366",
     "showTitle": false,
     "tableResultSettingsMap": {},
     "title": ""
    }
   },
   "outputs": [],
   "source": [
    "%sql\n",
    "-- drop the table when altering code above for testing purposes\n",
    "drop table if exists near_earth_objects;\n",
    "drop table if exists close_approaches_with_earth;"
   ]
  },
  {
   "cell_type": "code",
   "execution_count": 0,
   "metadata": {
    "application/vnd.databricks.v1+cell": {
     "cellMetadata": {
      "byteLimit": 2048000,
      "rowLimit": 10000
     },
     "inputWidgets": {},
     "nuid": "bee3d89b-00af-4946-8c98-b0c6eadfcc67",
     "showTitle": false,
     "tableResultSettingsMap": {},
     "title": ""
    }
   },
   "outputs": [],
   "source": [
    "'''write the data from the PySpark Dataframes into tables'''\n",
    "neo_df.write.mode(\"overwrite\").saveAsTable(\"near_earth_objects\")\n",
    "approach_df.write.mode(\"overwrite\").saveAsTable(\"close_approaches_with_earth\")"
   ]
  },
  {
   "cell_type": "code",
   "execution_count": 0,
   "metadata": {
    "application/vnd.databricks.v1+cell": {
     "cellMetadata": {
      "byteLimit": 2048000,
      "rowLimit": 10000
     },
     "inputWidgets": {},
     "nuid": "e29650f9-d877-4d04-9c06-9bde0a6cca50",
     "showTitle": false,
     "tableResultSettingsMap": {},
     "title": ""
    }
   },
   "outputs": [],
   "source": [
    "import matplotlib.pyplot as plt\n",
    "import seaborn as sns\n",
    "import pandas as pd"
   ]
  },
  {
   "cell_type": "code",
   "execution_count": 0,
   "metadata": {
    "application/vnd.databricks.v1+cell": {
     "cellMetadata": {
      "byteLimit": 2048000,
      "rowLimit": 10000
     },
     "inputWidgets": {},
     "nuid": "6867e897-b05d-47a5-ba8b-874d840ef4e7",
     "showTitle": false,
     "tableResultSettingsMap": {},
     "title": ""
    }
   },
   "outputs": [],
   "source": [
    "'''convert spark df to a pandas df to use with matplotlib and seaborn'''\n",
    "neo_pd = neo_df.toPandas()\n",
    "approach_pd = approach_df.toPandas()"
   ]
  },
  {
   "cell_type": "code",
   "execution_count": 0,
   "metadata": {
    "application/vnd.databricks.v1+cell": {
     "cellMetadata": {
      "byteLimit": 2048000,
      "rowLimit": 10000
     },
     "inputWidgets": {},
     "nuid": "a492ed76-5d05-460a-b164-406e2a0b7e28",
     "showTitle": false,
     "tableResultSettingsMap": {},
     "title": ""
    }
   },
   "outputs": [
    {
     "output_type": "display_data",
     "data": {
      "image/png": "[encoded data removed]",
      "text/plain": [
       "<Figure size 1000x600 with 1 Axes>"
      ]
     },
     "metadata": {},
     "output_type": "display_data"
    }
   ],
   "source": [
    "'''scatter plot graph showing relationship between diameter and orbital period categorised by hazard classification'''\n",
    "\n",
    "plt.figure(figsize=(10,6))\n",
    "sns.scatterplot(data=neo_pd, x=\"diameter_km\", y=\"orbital_period_minutes\", hue=\"hazard_classification\", s=100, alpha=0.7)\n",
    "plt.title(\"Object Diameter vs Orbital Period\")\n",
    "plt.xlabel(\"Diameter (km)\")\n",
    "plt.ylabel(\"Orbital Period (minutes)\")\n",
    "plt.legend(title=\"Hazard Classification\")\n",
    "plt.show()\n"
   ]
  },
  {
   "cell_type": "code",
   "execution_count": 0,
   "metadata": {
    "application/vnd.databricks.v1+cell": {
     "cellMetadata": {
      "byteLimit": 2048000,
      "rowLimit": 10000
     },
     "inputWidgets": {},
     "nuid": "87bebd2b-9298-4ee2-b632-18cfaf52d25f",
     "showTitle": false,
     "tableResultSettingsMap": {},
     "title": ""
    }
   },
   "outputs": [
    {
     "output_type": "display_data",
     "data": {
      "image/png": "[encoded data removed]",
      "text/plain": [
       "<Figure size 1000x600 with 1 Axes>"
      ]
     },
     "metadata": {},
     "output_type": "display_data"
    }
   ],
   "source": [
    "'''histogram graph showing distribution of Near Earth Object diameters by hazard classification'''\n",
    "\n",
    "plt.figure(figsize=(10,6))\n",
    "sns.histplot(data=neo_pd, x=\"diameter_km\", hue=\"hazard_classification\", multiple=\"stack\", bins=30)\n",
    "plt.title(\"Distribution of Near Earth Object Diameters by Hazard classification\")\n",
    "plt.xlabel(\"Diameter (km)\")\n",
    "plt.ylabel(\"Count\")\n",
    "plt.show()\n"
   ]
  },
  {
   "cell_type": "code",
   "execution_count": 0,
   "metadata": {
    "application/vnd.databricks.v1+cell": {
     "cellMetadata": {
      "byteLimit": 2048000,
      "rowLimit": 10000
     },
     "inputWidgets": {},
     "nuid": "9c30ef0d-46b2-47d6-b621-c3c9bd2fe6a1",
     "showTitle": false,
     "tableResultSettingsMap": {},
     "title": ""
    }
   },
   "outputs": [
    {
     "output_type": "display_data",
     "data": {
      "image/png": "[encoded data removed]",
      "text/plain": [
       "<Figure size 1000x600 with 1 Axes>"
      ]
     },
     "metadata": {},
     "output_type": "display_data"
    }
   ],
   "source": [
    "'''histogram showing distribution of approach distances by hazard'''\n",
    "plt.figure(figsize=(10,6))\n",
    "sns.histplot(data=approach_pd, x='distance_from_earth_km', hue='hazard_classification', bins=30, palette={'potentially hazardous': 'red', 'non-hazardous': 'green'})\n",
    "plt.title(\"Distribution of Near Earth Object Approach Distances by Hazard Classification\")\n",
    "plt.xlabel(\"Distance from Earth (km)\")\n",
    "plt.ylabel(\"Number of Approaches\")\n",
    "plt.show()\n"
   ]
  },
  {
   "cell_type": "code",
   "execution_count": 0,
   "metadata": {
    "application/vnd.databricks.v1+cell": {
     "cellMetadata": {
      "byteLimit": 2048000,
      "rowLimit": 10000
     },
     "inputWidgets": {},
     "nuid": "d1b8cb78-0f3c-41ce-ae23-46fab360e65f",
     "showTitle": false,
     "tableResultSettingsMap": {},
     "title": ""
    }
   },
   "outputs": [
    {
     "output_type": "display_data",
     "data": {
      "image/png": "[encoded data removed]",
      "text/plain": [
       "<Figure size 1000x600 with 1 Axes>"
      ]
     },
     "metadata": {},
     "output_type": "display_data"
    }
   ],
   "source": [
    "'''bar chart showing number of approaches by size category'''\n",
    "plt.figure(figsize=(10,6))\n",
    "sns.countplot(data=approach_pd, x='size_category', hue='hazard_classification',palette={'potentially hazardous': 'red', 'non-hazardous': 'blue'})\n",
    "plt.title(\"Frequency of Near Earth Object Approaches by Size and Hazard Classification\")\n",
    "plt.xlabel(\"Size Category\")\n",
    "plt.ylabel(\"Number of Approaches\")\n",
    "plt.show()\n"
   ]
  },
  {
   "cell_type": "code",
   "execution_count": 0,
   "metadata": {
    "application/vnd.databricks.v1+cell": {
     "cellMetadata": {
      "byteLimit": 2048000,
      "implicitDf": true,
      "rowLimit": 10000
     },
     "inputWidgets": {},
     "nuid": "4798c669-0ee7-46c4-91ba-c5a0e8406a15",
     "showTitle": false,
     "tableResultSettingsMap": {},
     "title": ""
    }
   },
   "outputs": [
    {
     "output_type": "display_data",
     "data": {
      "text/html": [
       "<style scoped>\n",
       "  .table-result-container {\n",
       "    max-height: 300px;\n",
       "    overflow: auto;\n",
       "  }\n",
       "  table, th, td {\n",
       "    border: 1px solid black;\n",
       "    border-collapse: collapse;\n",
       "  }\n",
       "  th, td {\n",
       "    padding: 5px;\n",
       "  }\n",
       "  th {\n",
       "    text-align: left;\n",
       "  }\n",
       "</style><div class='table-result-container'><table class='table-result'><thead style='background-color: white'><tr><th>object_id</th><th>object_name</th><th>object_size_km</th><th>size_category</th><th>distance_from_earth_km</th><th>distance_category</th><th>orbital_period_minutes</th><th>approach_date</th><th>hazard_classification</th></tr></thead><tbody><tr><td>3553060</td><td>(2010 XT10)</td><td>0.02</td><td>small</td><td>7.356378239E7</td><td>distant</td><td>330</td><td>2015-09-08</td><td>non-hazardous</td></tr><tr><td>3727181</td><td>(2015 RO36)</td><td>0.11</td><td>medium</td><td>8086032.0</td><td>moderate_distance</td><td>12</td><td>2015-09-08</td><td>non-hazardous</td></tr><tr><td>2465633</td><td>465633 (2009 JR5)</td><td>0.35</td><td>medium</td><td>4.529029823E7</td><td>distant</td><td>159</td><td>2015-09-08</td><td>potentially hazardous</td></tr><tr><td>3726710</td><td>(2015 RC)</td><td>0.06</td><td>small</td><td>4027962.7</td><td>moderate_distance</td><td>4</td><td>2015-09-08</td><td>non-hazardous</td></tr><tr><td>3727639</td><td>(2015 RN83)</td><td>0.19</td><td>medium</td><td>2.519517736E7</td><td>distant</td><td>66</td><td>2015-09-08</td><td>non-hazardous</td></tr><tr><td>3426410</td><td>(2008 QV11)</td><td>0.23</td><td>medium</td><td>3.876455855E7</td><td>distant</td><td>126</td><td>2015-09-08</td><td>non-hazardous</td></tr><tr><td>3747356</td><td>(2016 EK158)</td><td>0.34</td><td>medium</td><td>4.195849768E7</td><td>distant</td><td>142</td><td>2015-09-08</td><td>non-hazardous</td></tr><tr><td>3731587</td><td>(2015 UG)</td><td>0.12</td><td>medium</td><td>1.694046102E7</td><td>distant</td><td>36</td><td>2015-09-08</td><td>non-hazardous</td></tr><tr><td>3730577</td><td>(2015 TX237)</td><td>0.09</td><td>small</td><td>1.189660243E7</td><td>distant</td><td>21</td><td>2015-09-08</td><td>non-hazardous</td></tr><tr><td>3758838</td><td>(2016 RT)</td><td>0.06</td><td>small</td><td>2.55371982E7</td><td>distant</td><td>67</td><td>2015-09-08</td><td>non-hazardous</td></tr></tbody></table></div>"
      ]
     },
     "metadata": {
      "application/vnd.databricks.v1+output": {
       "addedWidgets": {},
       "aggData": [],
       "aggError": "",
       "aggOverflow": false,
       "aggSchema": [],
       "aggSeriesLimitReached": false,
       "aggType": "",
       "arguments": {},
       "columnCustomDisplayInfos": {},
       "data": [
        [
         "3553060",
         "(2010 XT10)",
         0.02,
         "small",
         7.356378239E7,
         "distant",
         330,
         "2015-09-08",
         "non-hazardous"
        ],
        [
         "3727181",
         "(2015 RO36)",
         0.11,
         "medium",
         8086032.0,
         "moderate_distance",
         12,
         "2015-09-08",
         "non-hazardous"
        ],
        [
         "2465633",
         "465633 (2009 JR5)",
         0.35,
         "medium",
         4.529029823E7,
         "distant",
         159,
         "2015-09-08",
         "potentially hazardous"
        ],
        [
         "3726710",
         "(2015 RC)",
         0.06,
         "small",
         4027962.7,
         "moderate_distance",
         4,
         "2015-09-08",
         "non-hazardous"
        ],
        [
         "3727639",
         "(2015 RN83)",
         0.19,
         "medium",
         2.519517736E7,
         "distant",
         66,
         "2015-09-08",
         "non-hazardous"
        ],
        [
         "3426410",
         "(2008 QV11)",
         0.23,
         "medium",
         3.876455855E7,
         "distant",
         126,
         "2015-09-08",
         "non-hazardous"
        ],
        [
         "3747356",
         "(2016 EK158)",
         0.34,
         "medium",
         4.195849768E7,
         "distant",
         142,
         "2015-09-08",
         "non-hazardous"
        ],
        [
         "3731587",
         "(2015 UG)",
         0.12,
         "medium",
         1.694046102E7,
         "distant",
         36,
         "2015-09-08",
         "non-hazardous"
        ],
        [
         "3730577",
         "(2015 TX237)",
         0.09,
         "small",
         1.189660243E7,
         "distant",
         21,
         "2015-09-08",
         "non-hazardous"
        ],
        [
         "3758838",
         "(2016 RT)",
         0.06,
         "small",
         2.55371982E7,
         "distant",
         67,
         "2015-09-08",
         "non-hazardous"
        ]
       ],
       "datasetInfos": [
        {
         "name": "_sqldf",
         "schema": {
          "fields": [
           {
            "metadata": {},
            "name": "object_id",
            "nullable": true,
            "type": "string"
           },
           {
            "metadata": {},
            "name": "object_name",
            "nullable": true,
            "type": "string"
           },
           {
            "metadata": {},
            "name": "object_size_km",
            "nullable": true,
            "type": "double"
           },
           {
            "metadata": {},
            "name": "size_category",
            "nullable": true,
            "type": "string"
           },
           {
            "metadata": {},
            "name": "distance_from_earth_km",
            "nullable": true,
            "type": "double"
           },
           {
            "metadata": {},
            "name": "distance_category",
            "nullable": true,
            "type": "string"
           },
           {
            "metadata": {},
            "name": "orbital_period_minutes",
            "nullable": true,
            "type": "long"
           },
           {
            "metadata": {},
            "name": "approach_date",
            "nullable": true,
            "type": "string"
           },
           {
            "metadata": {},
            "name": "hazard_classification",
            "nullable": true,
            "type": "string"
           }
          ],
          "type": "struct"
         },
         "tableIdentifier": null,
         "typeStr": "pyspark.sql.connect.dataframe.DataFrame"
        }
       ],
       "dbfsResultPath": null,
       "isJsonSchema": true,
       "metadata": {
        "createTempViewForImplicitDf": true,
        "dataframeName": "_sqldf",
        "executionCount": 159
       },
       "overflow": false,
       "plotOptions": {
        "customPlotOptions": {},
        "displayType": "table",
        "pivotAggregation": null,
        "pivotColumns": null,
        "xColumns": null,
        "yColumns": null
       },
       "removedWidgets": [],
       "schema": [
        {
         "metadata": "{}",
         "name": "object_id",
         "type": "\"string\""
        },
        {
         "metadata": "{}",
         "name": "object_name",
         "type": "\"string\""
        },
        {
         "metadata": "{}",
         "name": "object_size_km",
         "type": "\"double\""
        },
        {
         "metadata": "{}",
         "name": "size_category",
         "type": "\"string\""
        },
        {
         "metadata": "{}",
         "name": "distance_from_earth_km",
         "type": "\"double\""
        },
        {
         "metadata": "{}",
         "name": "distance_category",
         "type": "\"string\""
        },
        {
         "metadata": "{}",
         "name": "orbital_period_minutes",
         "type": "\"long\""
        },
        {
         "metadata": "{}",
         "name": "approach_date",
         "type": "\"string\""
        },
        {
         "metadata": "{}",
         "name": "hazard_classification",
         "type": "\"string\""
        }
       ],
       "type": "table"
      }
     },
     "output_type": "display_data"
    }
   ],
   "source": [
    "%sql\n",
    "-- display all required data in one table from 25 years before and after current date\n",
    "SELECT\n",
    "    n.id AS object_id,\n",
    "    n.name AS object_name,\n",
    "    n.diameter_km AS object_size_km,\n",
    "    c.size_category AS size_category,\n",
    "    c.distance_from_earth_km AS distance_from_earth_km,\n",
    "    c.distance_category AS distance_category,\n",
    "    ROUND(n.orbital_period_minutes,2) AS orbital_period_minutes,\n",
    "    c.close_approach_date AS approach_date,\n",
    "    n.hazard_classification AS hazard_classification\n",
    "FROM near_earth_objects n\n",
    "JOIN close_approaches_with_earth c\n",
    "  ON n.id = c.neo_id\n",
    "WHERE\n",
    "  CAST(c.close_approach_date AS DATE) BETWEEN DATE_SUB(CURRENT_DATE(), 25 * 365) AND DATE_ADD(CURRENT_DATE(), 25 * 365)                                  \n",
    "ORDER BY c.close_approach_date DESC\n",
    "LIMIT 10;\n"
   ]
  },
  {
   "cell_type": "code",
   "execution_count": 0,
   "metadata": {
    "application/vnd.databricks.v1+cell": {
     "cellMetadata": {
      "byteLimit": 2048000,
      "implicitDf": true,
      "rowLimit": 10000
     },
     "inputWidgets": {},
     "nuid": "d3140282-d24e-4238-abb7-85b663a24fe3",
     "showTitle": false,
     "tableResultSettingsMap": {},
     "title": ""
    }
   },
   "outputs": [
    {
     "output_type": "display_data",
     "data": {
      "text/html": [
       "<style scoped>\n",
       "  .table-result-container {\n",
       "    max-height: 300px;\n",
       "    overflow: auto;\n",
       "  }\n",
       "  table, th, td {\n",
       "    border: 1px solid black;\n",
       "    border-collapse: collapse;\n",
       "  }\n",
       "  th, td {\n",
       "    padding: 5px;\n",
       "  }\n",
       "  th {\n",
       "    text-align: left;\n",
       "  }\n",
       "</style><div class='table-result-container'><table class='table-result'><thead style='background-color: white'><tr><th>object_id</th><th>object_name</th><th>object_size_km</th><th>orbital_period_minutes</th><th>approach_distance_km</th></tr></thead><tbody><tr><td>3726788</td><td>(2015 RG2)</td><td>0.02</td><td>2</td><td>2450214.65</td></tr><tr><td>3726710</td><td>(2015 RC)</td><td>0.06</td><td>4</td><td>4027962.7</td></tr><tr><td>3727181</td><td>(2015 RO36)</td><td>0.11</td><td>12</td><td>8086032.0</td></tr><tr><td>3727036</td><td>(2015 RL35)</td><td>0.02</td><td>17</td><td>1.035919367E7</td></tr><tr><td>3727663</td><td>(2015 RY83)</td><td>0.06</td><td>20</td><td>1.144272884E7</td></tr><tr><td>3730577</td><td>(2015 TX237)</td><td>0.09</td><td>21</td><td>1.189660243E7</td></tr><tr><td>3727179</td><td>(2015 RH36)</td><td>0.08</td><td>34</td><td>1.63567259E7</td></tr><tr><td>3731587</td><td>(2015 UG)</td><td>0.12</td><td>36</td><td>1.694046102E7</td></tr><tr><td>3759690</td><td>(2016 RN41)</td><td>0.0</td><td>40</td><td>1.803134071E7</td></tr><tr><td>3727639</td><td>(2015 RN83)</td><td>0.19</td><td>66</td><td>2.519517736E7</td></tr></tbody></table></div>"
      ]
     },
     "metadata": {
      "application/vnd.databricks.v1+output": {
       "addedWidgets": {},
       "aggData": [],
       "aggError": "",
       "aggOverflow": false,
       "aggSchema": [],
       "aggSeriesLimitReached": false,
       "aggType": "",
       "arguments": {},
       "columnCustomDisplayInfos": {},
       "data": [
        [
         "3726788",
         "(2015 RG2)",
         0.02,
         2,
         2450214.65
        ],
        [
         "3726710",
         "(2015 RC)",
         0.06,
         4,
         4027962.7
        ],
        [
         "3727181",
         "(2015 RO36)",
         0.11,
         12,
         8086032.0
        ],
        [
         "3727036",
         "(2015 RL35)",
         0.02,
         17,
         1.035919367E7
        ],
        [
         "3727663",
         "(2015 RY83)",
         0.06,
         20,
         1.144272884E7
        ],
        [
         "3730577",
         "(2015 TX237)",
         0.09,
         21,
         1.189660243E7
        ],
        [
         "3727179",
         "(2015 RH36)",
         0.08,
         34,
         1.63567259E7
        ],
        [
         "3731587",
         "(2015 UG)",
         0.12,
         36,
         1.694046102E7
        ],
        [
         "3759690",
         "(2016 RN41)",
         0.0,
         40,
         1.803134071E7
        ],
        [
         "3727639",
         "(2015 RN83)",
         0.19,
         66,
         2.519517736E7
        ]
       ],
       "datasetInfos": [
        {
         "name": "_sqldf",
         "schema": {
          "fields": [
           {
            "metadata": {},
            "name": "object_id",
            "nullable": true,
            "type": "string"
           },
           {
            "metadata": {},
            "name": "object_name",
            "nullable": true,
            "type": "string"
           },
           {
            "metadata": {},
            "name": "object_size_km",
            "nullable": true,
            "type": "double"
           },
           {
            "metadata": {},
            "name": "orbital_period_minutes",
            "nullable": true,
            "type": "long"
           },
           {
            "metadata": {},
            "name": "approach_distance_km",
            "nullable": true,
            "type": "double"
           }
          ],
          "type": "struct"
         },
         "tableIdentifier": null,
         "typeStr": "pyspark.sql.connect.dataframe.DataFrame"
        }
       ],
       "dbfsResultPath": null,
       "isJsonSchema": true,
       "metadata": {
        "createTempViewForImplicitDf": true,
        "dataframeName": "_sqldf",
        "executionCount": 163
       },
       "overflow": false,
       "plotOptions": {
        "customPlotOptions": {},
        "displayType": "table",
        "pivotAggregation": null,
        "pivotColumns": null,
        "xColumns": null,
        "yColumns": null
       },
       "removedWidgets": [],
       "schema": [
        {
         "metadata": "{}",
         "name": "object_id",
         "type": "\"string\""
        },
        {
         "metadata": "{}",
         "name": "object_name",
         "type": "\"string\""
        },
        {
         "metadata": "{}",
         "name": "object_size_km",
         "type": "\"double\""
        },
        {
         "metadata": "{}",
         "name": "orbital_period_minutes",
         "type": "\"long\""
        },
        {
         "metadata": "{}",
         "name": "approach_distance_km",
         "type": "\"double\""
        }
       ],
       "type": "table"
      }
     },
     "output_type": "display_data"
    }
   ],
   "source": [
    "%sql\n",
    "-- query to show the size, orbital time and approach distance of neo objects\n",
    "SELECT \n",
    "    n.id AS object_id,\n",
    "    n.name AS object_name,\n",
    "    n.diameter_km AS object_size_km,\n",
    "    n.orbital_period_minutes AS orbital_period_minutes,\n",
    "    c.distance_from_earth_km AS approach_distance_km\n",
    "FROM near_earth_objects n\n",
    "JOIN close_approaches_with_earth c\n",
    "ON n.id = c.neo_id\n",
    "order by distance_from_earth_km\n",
    "limit 10;"
   ]
  },
  {
   "cell_type": "code",
   "execution_count": 0,
   "metadata": {
    "application/vnd.databricks.v1+cell": {
     "cellMetadata": {
      "byteLimit": 2048000,
      "implicitDf": true,
      "rowLimit": 10000
     },
     "inputWidgets": {},
     "nuid": "98018942-8e5f-4932-9b0b-13d801c4e603",
     "showTitle": false,
     "tableResultSettingsMap": {},
     "title": ""
    }
   },
   "outputs": [
    {
     "output_type": "display_data",
     "data": {
      "text/html": [
       "<style scoped>\n",
       "  .table-result-container {\n",
       "    max-height: 300px;\n",
       "    overflow: auto;\n",
       "  }\n",
       "  table, th, td {\n",
       "    border: 1px solid black;\n",
       "    border-collapse: collapse;\n",
       "  }\n",
       "  th, td {\n",
       "    padding: 5px;\n",
       "  }\n",
       "  th {\n",
       "    text-align: left;\n",
       "  }\n",
       "</style><div class='table-result-container'><table class='table-result'><thead style='background-color: white'><tr><th>distance_category</th><th>size_category</th><th>approach_count</th><th>avg_distance_km</th><th>avg_orbital_period_minutes</th><th>hazard_classification</th></tr></thead><tbody><tr><td>distant</td><td>small</td><td>13</td><td>3.775534919E7</td><td>138.54</td><td>non-hazardous</td></tr><tr><td>distant</td><td>medium</td><td>10</td><td>4.61073564E7</td><td>171.6</td><td>non-hazardous</td></tr><tr><td>distant</td><td>medium</td><td>1</td><td>4.529029823E7</td><td>159.0</td><td>potentially hazardous</td></tr><tr><td>close</td><td>small</td><td>1</td><td>2450214.65</td><td>2.0</td><td>non-hazardous</td></tr><tr><td>moderate_distance</td><td>medium</td><td>1</td><td>8086032.0</td><td>12.0</td><td>non-hazardous</td></tr><tr><td>moderate_distance</td><td>small</td><td>1</td><td>4027962.7</td><td>4.0</td><td>non-hazardous</td></tr></tbody></table></div>"
      ]
     },
     "metadata": {
      "application/vnd.databricks.v1+output": {
       "addedWidgets": {},
       "aggData": [],
       "aggError": "",
       "aggOverflow": false,
       "aggSchema": [],
       "aggSeriesLimitReached": false,
       "aggType": "",
       "arguments": {},
       "columnCustomDisplayInfos": {},
       "data": [
        [
         "distant",
         "small",
         13,
         3.775534919E7,
         138.54,
         "non-hazardous"
        ],
        [
         "distant",
         "medium",
         10,
         4.61073564E7,
         171.6,
         "non-hazardous"
        ],
        [
         "distant",
         "medium",
         1,
         4.529029823E7,
         159.0,
         "potentially hazardous"
        ],
        [
         "close",
         "small",
         1,
         2450214.65,
         2.0,
         "non-hazardous"
        ],
        [
         "moderate_distance",
         "medium",
         1,
         8086032.0,
         12.0,
         "non-hazardous"
        ],
        [
         "moderate_distance",
         "small",
         1,
         4027962.7,
         4.0,
         "non-hazardous"
        ]
       ],
       "datasetInfos": [
        {
         "name": "_sqldf",
         "schema": {
          "fields": [
           {
            "metadata": {},
            "name": "distance_category",
            "nullable": true,
            "type": "string"
           },
           {
            "metadata": {},
            "name": "size_category",
            "nullable": true,
            "type": "string"
           },
           {
            "metadata": {},
            "name": "approach_count",
            "nullable": false,
            "type": "long"
           },
           {
            "metadata": {},
            "name": "avg_distance_km",
            "nullable": true,
            "type": "double"
           },
           {
            "metadata": {},
            "name": "avg_orbital_period_minutes",
            "nullable": true,
            "type": "double"
           },
           {
            "metadata": {},
            "name": "hazard_classification",
            "nullable": true,
            "type": "string"
           }
          ],
          "type": "struct"
         },
         "tableIdentifier": null,
         "typeStr": "pyspark.sql.connect.dataframe.DataFrame"
        }
       ],
       "dbfsResultPath": null,
       "isJsonSchema": true,
       "metadata": {
        "createTempViewForImplicitDf": true,
        "dataframeName": "_sqldf",
        "executionCount": 164
       },
       "overflow": false,
       "plotOptions": {
        "customPlotOptions": {},
        "displayType": "table",
        "pivotAggregation": null,
        "pivotColumns": null,
        "xColumns": null,
        "yColumns": null
       },
       "removedWidgets": [],
       "schema": [
        {
         "metadata": "{}",
         "name": "distance_category",
         "type": "\"string\""
        },
        {
         "metadata": "{}",
         "name": "size_category",
         "type": "\"string\""
        },
        {
         "metadata": "{}",
         "name": "approach_count",
         "type": "\"long\""
        },
        {
         "metadata": "{}",
         "name": "avg_distance_km",
         "type": "\"double\""
        },
        {
         "metadata": "{}",
         "name": "avg_orbital_period_minutes",
         "type": "\"double\""
        },
        {
         "metadata": "{}",
         "name": "hazard_classification",
         "type": "\"string\""
        }
       ],
       "type": "table"
      }
     },
     "output_type": "display_data"
    }
   ],
   "source": [
    "%sql\n",
    "-- show data grouped by distance category and size category ordered by the count of objects\n",
    "SELECT \n",
    "    c.distance_category,\n",
    "    c.size_category,\n",
    "    COUNT(*) AS approach_count,\n",
    "    ROUND(AVG(c.distance_from_earth_km),2) AS avg_distance_km,\n",
    "    ROUND(AVG(n.orbital_period_minutes),2) AS avg_orbital_period_minutes,\n",
    "    c.hazard_classification\n",
    "FROM close_approaches_with_earth c\n",
    "JOIN near_earth_objects n\n",
    "ON c.neo_id = n.id\n",
    "GROUP BY distance_category, size_category, c.hazard_classification\n",
    "ORDER BY approach_count DESC;"
   ]
  }
 ],
 "metadata": {
  "application/vnd.databricks.v1+notebook": {
   "computePreferences": null,
   "dashboards": [],
   "environmentMetadata": {
    "base_environment": "",
    "environment_version": "2"
   },
   "inputWidgetPreferences": null,
   "language": "python",
   "notebookMetadata": {
    "mostRecentlyExecutedCommandWithImplicitDF": {
     "commandId": 6778038154410381,
     "dataframes": [
      "_sqldf"
     ]
    },
    "pythonIndentUnit": 4
   },
   "notebookName": "NASA_Near_Earth_Objects_Data",
   "widgets": {}
  },
  "language_info": {
   "name": "python"
  }
 },
 "nbformat": 4,
 "nbformat_minor": 0
}